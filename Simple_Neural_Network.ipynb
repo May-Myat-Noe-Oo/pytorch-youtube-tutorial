{
  "nbformat": 4,
  "nbformat_minor": 0,
  "metadata": {
    "colab": {
      "provenance": [],
      "gpuType": "T4",
      "authorship_tag": "ABX9TyPB6UVVyqwQ6Gz8YnOVCflD",
      "include_colab_link": true
    },
    "kernelspec": {
      "name": "python3",
      "display_name": "Python 3"
    },
    "language_info": {
      "name": "python"
    },
    "accelerator": "GPU"
  },
  "cells": [
    {
      "cell_type": "markdown",
      "metadata": {
        "id": "view-in-github",
        "colab_type": "text"
      },
      "source": [
        "<a href=\"https://colab.research.google.com/github/May-Myat-Noe-Oo/pytorch-youtube-tutorial/blob/main/Simple_Neural_Network.ipynb\" target=\"_parent\"><img src=\"https://colab.research.google.com/assets/colab-badge.svg\" alt=\"Open In Colab\"/></a>"
      ]
    },
    {
      "cell_type": "code",
      "execution_count": 1,
      "metadata": {
        "id": "_UQMb35zCBVV"
      },
      "outputs": [],
      "source": [
        "import torch\n",
        "import torch.nn as nn\n",
        "import torch.nn.functional as F"
      ]
    },
    {
      "cell_type": "code",
      "source": [
        "# Create a Model Class that inherits nn.Module\n",
        "class Model(nn.Module):\n",
        "  # Input Layer (4 features of the flower)\n",
        "  # Hidden Layer (number of neurons) 2 hidden layers\n",
        "  # output ( 3 classes of iris flowers)\n",
        "  def __init__(self, in_features = 4 , h1 = 8, h2 =9, out_features = 3):\n",
        "    super().__init__() # instantiate our nn.module\n",
        "    self.fc1 = nn.Linear(in_features, h1)\n",
        "    self.fc2 = nn.Linear(h1, h2)\n",
        "    self.out = nn.Linear(h2,out_features)\n",
        "\n",
        "def forward(self, x):\n",
        "  x = F.relu(self.fc1(x))\n",
        "  x = F.relu(self.fc2(x))\n",
        "  x = self.out(x)\n",
        "  return x\n",
        ""
      ],
      "metadata": {
        "id": "bfbZH6aWKuVL"
      },
      "execution_count": 2,
      "outputs": []
    }
  ]
}