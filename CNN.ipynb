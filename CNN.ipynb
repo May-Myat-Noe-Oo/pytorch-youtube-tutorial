{
  "nbformat": 4,
  "nbformat_minor": 0,
  "metadata": {
    "colab": {
      "provenance": [],
      "gpuType": "T4",
      "authorship_tag": "ABX9TyO1Ym+FZrGo9D3OlogjAxMD",
      "include_colab_link": true
    },
    "kernelspec": {
      "name": "python3",
      "display_name": "Python 3"
    },
    "language_info": {
      "name": "python"
    },
    "accelerator": "GPU"
  },
  "cells": [
    {
      "cell_type": "markdown",
      "metadata": {
        "id": "view-in-github",
        "colab_type": "text"
      },
      "source": [
        "<a href=\"https://colab.research.google.com/github/May-Myat-Noe-Oo/pytorch-youtube-tutorial/blob/main/CNN.ipynb\" target=\"_parent\"><img src=\"https://colab.research.google.com/assets/colab-badge.svg\" alt=\"Open In Colab\"/></a>"
      ]
    },
    {
      "cell_type": "code",
      "execution_count": 2,
      "metadata": {
        "id": "4K5vWTn4Z2Yb"
      },
      "outputs": [],
      "source": [
        "import torch\n",
        "import torch.nn as nn\n",
        "import torch.nn.functional as F\n",
        "from torch.utils.data import DataLoader\n",
        "from torchvision import datasets, transforms\n",
        "from torchvision.utils import make_grid\n",
        "\n",
        "import numpy as np\n",
        "import pandas as pd\n",
        "from sklearn.metrics import confusion_matrix\n",
        "import matplotlib.pyplot as plt\n",
        "%matplotlib inline"
      ]
    },
    {
      "cell_type": "markdown",
      "source": [
        "**Convert the original MNIST image into tensor dimension 4**"
      ],
      "metadata": {
        "id": "OvjonnUia9lT"
      }
    },
    {
      "cell_type": "code",
      "source": [
        "transform = transforms.ToTensor()"
      ],
      "metadata": {
        "id": "hdG-WQ_Wa5sW"
      },
      "execution_count": 3,
      "outputs": []
    },
    {
      "cell_type": "markdown",
      "source": [
        "**Training data from MNIST Datasets**"
      ],
      "metadata": {
        "id": "MKYDawDbepIG"
      }
    },
    {
      "cell_type": "code",
      "source": [
        "training_data = datasets.MNIST(root='/cnn_data', train=True, download=True, transform=transform)"
      ],
      "metadata": {
        "colab": {
          "base_uri": "https://localhost:8080/"
        },
        "id": "1j0FK6D5evBq",
        "outputId": "b75463cd-2945-4d9b-c3ba-6bb08d11e5c8"
      },
      "execution_count": 4,
      "outputs": [
        {
          "output_type": "stream",
          "name": "stderr",
          "text": [
            "100%|██████████| 9.91M/9.91M [00:00<00:00, 17.8MB/s]\n",
            "100%|██████████| 28.9k/28.9k [00:00<00:00, 482kB/s]\n",
            "100%|██████████| 1.65M/1.65M [00:00<00:00, 4.47MB/s]\n",
            "100%|██████████| 4.54k/4.54k [00:00<00:00, 6.90MB/s]\n"
          ]
        }
      ]
    },
    {
      "cell_type": "markdown",
      "source": [
        "**Test data from MNIST Datasets**"
      ],
      "metadata": {
        "id": "k6xJHkeeiP-2"
      }
    },
    {
      "cell_type": "code",
      "source": [
        "test_data = datasets.MNIST(root='/cnn_data', train=False, download=True, transform=transform)"
      ],
      "metadata": {
        "id": "fiP-p3EmiT-E"
      },
      "execution_count": 5,
      "outputs": []
    },
    {
      "cell_type": "code",
      "source": [
        "training_data"
      ],
      "metadata": {
        "colab": {
          "base_uri": "https://localhost:8080/"
        },
        "id": "xDgNgVwAifsX",
        "outputId": "22e7d810-038d-4c80-a690-b8ddfa82fdc0"
      },
      "execution_count": 6,
      "outputs": [
        {
          "output_type": "execute_result",
          "data": {
            "text/plain": [
              "Dataset MNIST\n",
              "    Number of datapoints: 60000\n",
              "    Root location: /cnn_data\n",
              "    Split: Train\n",
              "    StandardTransform\n",
              "Transform: ToTensor()"
            ]
          },
          "metadata": {},
          "execution_count": 6
        }
      ]
    },
    {
      "cell_type": "code",
      "source": [
        "test_data"
      ],
      "metadata": {
        "colab": {
          "base_uri": "https://localhost:8080/"
        },
        "id": "6bfsbI51ih6l",
        "outputId": "ab6c4791-1d8e-4d31-ba20-906821335aba"
      },
      "execution_count": 7,
      "outputs": [
        {
          "output_type": "execute_result",
          "data": {
            "text/plain": [
              "Dataset MNIST\n",
              "    Number of datapoints: 10000\n",
              "    Root location: /cnn_data\n",
              "    Split: Test\n",
              "    StandardTransform\n",
              "Transform: ToTensor()"
            ]
          },
          "metadata": {},
          "execution_count": 7
        }
      ]
    },
    {
      "cell_type": "code",
      "source": [
        "pwd"
      ],
      "metadata": {
        "colab": {
          "base_uri": "https://localhost:8080/",
          "height": 36
        },
        "id": "U001ypTMiqrJ",
        "outputId": "ce1f6333-b7c3-4913-bb3c-f4266b4a02d7"
      },
      "execution_count": 8,
      "outputs": [
        {
          "output_type": "execute_result",
          "data": {
            "text/plain": [
              "'/content'"
            ],
            "application/vnd.google.colaboratory.intrinsic+json": {
              "type": "string"
            }
          },
          "metadata": {},
          "execution_count": 8
        }
      ]
    },
    {
      "cell_type": "code",
      "source": [
        "ls"
      ],
      "metadata": {
        "colab": {
          "base_uri": "https://localhost:8080/"
        },
        "id": "U8d7mAv7iwF2",
        "outputId": "8c80e066-21cb-45fe-b061-8aba43ee325e"
      },
      "execution_count": 9,
      "outputs": [
        {
          "output_type": "stream",
          "name": "stdout",
          "text": [
            "\u001b[0m\u001b[01;34msample_data\u001b[0m/\n"
          ]
        }
      ]
    },
    {
      "cell_type": "code",
      "source": [
        "cd ../"
      ],
      "metadata": {
        "colab": {
          "base_uri": "https://localhost:8080/"
        },
        "id": "3w20eq5Ji0V4",
        "outputId": "a015bb8d-79bb-4de5-d931-2243632325e5"
      },
      "execution_count": 10,
      "outputs": [
        {
          "output_type": "stream",
          "name": "stdout",
          "text": [
            "/\n"
          ]
        }
      ]
    },
    {
      "cell_type": "code",
      "source": [
        "pwd"
      ],
      "metadata": {
        "colab": {
          "base_uri": "https://localhost:8080/",
          "height": 36
        },
        "id": "bN8T_m1Bi2ny",
        "outputId": "a604dded-16e1-4da1-d450-171fb666b202"
      },
      "execution_count": 11,
      "outputs": [
        {
          "output_type": "execute_result",
          "data": {
            "text/plain": [
              "'/'"
            ],
            "application/vnd.google.colaboratory.intrinsic+json": {
              "type": "string"
            }
          },
          "metadata": {},
          "execution_count": 11
        }
      ]
    },
    {
      "cell_type": "code",
      "source": [
        "ls"
      ],
      "metadata": {
        "colab": {
          "base_uri": "https://localhost:8080/"
        },
        "id": "Ph6koevMi4hF",
        "outputId": "47c07f04-2da2-4dcb-e117-62cd1e32c3d5"
      },
      "execution_count": 12,
      "outputs": [
        {
          "output_type": "stream",
          "name": "stdout",
          "text": [
            "\u001b[0m\u001b[01;36mbin\u001b[0m@                        \u001b[01;34mhome\u001b[0m/    NGC-DL-CONTAINER-LICENSE  \u001b[01;34msrv\u001b[0m/\n",
            "\u001b[01;34mboot\u001b[0m/                       \u001b[01;34mkaggle\u001b[0m/  \u001b[01;34mopt\u001b[0m/                      \u001b[01;34msys\u001b[0m/\n",
            "\u001b[01;34mcnn_data\u001b[0m/                   \u001b[01;36mlib\u001b[0m@     \u001b[01;34mproc\u001b[0m/                     \u001b[30;42mtmp\u001b[0m/\n",
            "\u001b[01;34mcontent\u001b[0m/                    \u001b[01;36mlib32\u001b[0m@   \u001b[01;34mpython-apt\u001b[0m/               \u001b[01;34mtools\u001b[0m/\n",
            "cuda-keyring_1.1-1_all.deb  \u001b[01;36mlib64\u001b[0m@   \u001b[01;32mpython-apt.tar.xz\u001b[0m*        \u001b[01;34musr\u001b[0m/\n",
            "\u001b[01;34mdatalab\u001b[0m/                    \u001b[01;36mlibx32\u001b[0m@  \u001b[01;34mroot\u001b[0m/                     \u001b[01;34mvar\u001b[0m/\n",
            "\u001b[01;34mdev\u001b[0m/                        \u001b[01;34mmedia\u001b[0m/   \u001b[01;34mrun\u001b[0m/\n",
            "\u001b[01;34metc\u001b[0m/                        \u001b[01;34mmnt\u001b[0m/     \u001b[01;36msbin\u001b[0m@\n"
          ]
        }
      ]
    },
    {
      "cell_type": "markdown",
      "source": [
        "**Create batch size for images**"
      ],
      "metadata": {
        "id": "CB6vmotNkIkl"
      }
    },
    {
      "cell_type": "code",
      "source": [
        "train_loader = DataLoader(training_data, batch_size=10, shuffle=True)\n",
        "test_loader = DataLoader(test_data, batch_size=10, shuffle=False)"
      ],
      "metadata": {
        "id": "Xci1iSxrkCT1"
      },
      "execution_count": 13,
      "outputs": []
    },
    {
      "cell_type": "markdown",
      "source": [
        "**Define the CNN Model , Two Convolutional Layer**"
      ],
      "metadata": {
        "id": "X_5EAvlMmx8K"
      }
    },
    {
      "cell_type": "code",
      "source": [
        "conv1 = nn.Conv2d(1,6,3,1)\n",
        "conv2 = nn.Conv2d(6,16,3,1)"
      ],
      "metadata": {
        "id": "pe2-eHUGm2Vn"
      },
      "execution_count": 14,
      "outputs": []
    },
    {
      "cell_type": "markdown",
      "source": [
        "**Sample with one image to visualize the flow of convolutional pass**"
      ],
      "metadata": {
        "id": "_trBnwJspyuZ"
      }
    },
    {
      "cell_type": "code",
      "source": [
        "# Grab 1 MNIST image\n",
        "for i, (X_Train, y_train) in enumerate(training_data):\n",
        "  break"
      ],
      "metadata": {
        "id": "j-4-3c7lp-rp"
      },
      "execution_count": 15,
      "outputs": []
    },
    {
      "cell_type": "code",
      "source": [
        "X_Train.shape"
      ],
      "metadata": {
        "colab": {
          "base_uri": "https://localhost:8080/"
        },
        "id": "bbEtAt8_qVuS",
        "outputId": "7862b6df-103e-4f30-9b25-30045f72f92c"
      },
      "execution_count": 16,
      "outputs": [
        {
          "output_type": "execute_result",
          "data": {
            "text/plain": [
              "torch.Size([1, 28, 28])"
            ]
          },
          "metadata": {},
          "execution_count": 16
        }
      ]
    },
    {
      "cell_type": "markdown",
      "source": [
        "**One batch size and one image to trace the flow**"
      ],
      "metadata": {
        "id": "CuZ5FdVXrJcH"
      }
    },
    {
      "cell_type": "code",
      "source": [
        "x = X_Train.view(1,1,28,28)"
      ],
      "metadata": {
        "id": "D9hVnIDIrOh2"
      },
      "execution_count": 17,
      "outputs": []
    },
    {
      "cell_type": "markdown",
      "source": [
        "**Activation function after layer and inputs are defined**"
      ],
      "metadata": {
        "id": "VSpZ3KXCrj6O"
      }
    },
    {
      "cell_type": "code",
      "source": [
        "x = F.relu(conv1(x))"
      ],
      "metadata": {
        "id": "PcbwMnhWrrmm"
      },
      "execution_count": 18,
      "outputs": []
    },
    {
      "cell_type": "code",
      "source": [
        "x"
      ],
      "metadata": {
        "colab": {
          "base_uri": "https://localhost:8080/"
        },
        "id": "ZvXwwot3r0sz",
        "outputId": "6429ae36-b156-494a-9d5e-f4da00c5bc8e"
      },
      "execution_count": 19,
      "outputs": [
        {
          "output_type": "execute_result",
          "data": {
            "text/plain": [
              "tensor([[[[0.2164, 0.2164, 0.2164,  ..., 0.2164, 0.2164, 0.2164],\n",
              "          [0.2164, 0.2164, 0.2164,  ..., 0.2164, 0.2164, 0.2164],\n",
              "          [0.2164, 0.2164, 0.2164,  ..., 0.2164, 0.2164, 0.2164],\n",
              "          ...,\n",
              "          [0.2164, 0.2164, 0.2576,  ..., 0.2164, 0.2164, 0.2164],\n",
              "          [0.2164, 0.2164, 0.0654,  ..., 0.2164, 0.2164, 0.2164],\n",
              "          [0.2164, 0.2164, 0.2164,  ..., 0.2164, 0.2164, 0.2164]],\n",
              "\n",
              "         [[0.0000, 0.0000, 0.0000,  ..., 0.0000, 0.0000, 0.0000],\n",
              "          [0.0000, 0.0000, 0.0000,  ..., 0.0000, 0.0000, 0.0000],\n",
              "          [0.0000, 0.0000, 0.0000,  ..., 0.0000, 0.0000, 0.0000],\n",
              "          ...,\n",
              "          [0.0000, 0.0000, 0.0000,  ..., 0.0000, 0.0000, 0.0000],\n",
              "          [0.0000, 0.0000, 0.0000,  ..., 0.0000, 0.0000, 0.0000],\n",
              "          [0.0000, 0.0000, 0.0000,  ..., 0.0000, 0.0000, 0.0000]],\n",
              "\n",
              "         [[0.0000, 0.0000, 0.0000,  ..., 0.0000, 0.0000, 0.0000],\n",
              "          [0.0000, 0.0000, 0.0000,  ..., 0.0000, 0.0000, 0.0000],\n",
              "          [0.0000, 0.0000, 0.0000,  ..., 0.0000, 0.0000, 0.0000],\n",
              "          ...,\n",
              "          [0.0000, 0.0000, 0.0000,  ..., 0.0000, 0.0000, 0.0000],\n",
              "          [0.0000, 0.0000, 0.0000,  ..., 0.0000, 0.0000, 0.0000],\n",
              "          [0.0000, 0.0000, 0.0000,  ..., 0.0000, 0.0000, 0.0000]],\n",
              "\n",
              "         [[0.0000, 0.0000, 0.0000,  ..., 0.0000, 0.0000, 0.0000],\n",
              "          [0.0000, 0.0000, 0.0000,  ..., 0.0000, 0.0000, 0.0000],\n",
              "          [0.0000, 0.0000, 0.0000,  ..., 0.0000, 0.0000, 0.0000],\n",
              "          ...,\n",
              "          [0.0000, 0.0000, 0.0000,  ..., 0.0000, 0.0000, 0.0000],\n",
              "          [0.0000, 0.0000, 0.0000,  ..., 0.0000, 0.0000, 0.0000],\n",
              "          [0.0000, 0.0000, 0.0000,  ..., 0.0000, 0.0000, 0.0000]],\n",
              "\n",
              "         [[0.0000, 0.0000, 0.0000,  ..., 0.0000, 0.0000, 0.0000],\n",
              "          [0.0000, 0.0000, 0.0000,  ..., 0.0000, 0.0000, 0.0000],\n",
              "          [0.0000, 0.0000, 0.0000,  ..., 0.0000, 0.0000, 0.0000],\n",
              "          ...,\n",
              "          [0.0000, 0.0000, 0.0000,  ..., 0.0000, 0.0000, 0.0000],\n",
              "          [0.0000, 0.0000, 0.0571,  ..., 0.0000, 0.0000, 0.0000],\n",
              "          [0.0000, 0.0000, 0.0000,  ..., 0.0000, 0.0000, 0.0000]],\n",
              "\n",
              "         [[0.1051, 0.1051, 0.1051,  ..., 0.1051, 0.1051, 0.1051],\n",
              "          [0.1051, 0.1051, 0.1051,  ..., 0.1051, 0.1051, 0.1051],\n",
              "          [0.1051, 0.1051, 0.1051,  ..., 0.1051, 0.1051, 0.1051],\n",
              "          ...,\n",
              "          [0.1051, 0.1051, 0.1188,  ..., 0.1051, 0.1051, 0.1051],\n",
              "          [0.1051, 0.1051, 0.2202,  ..., 0.1051, 0.1051, 0.1051],\n",
              "          [0.1051, 0.1051, 0.1051,  ..., 0.1051, 0.1051, 0.1051]]]],\n",
              "       grad_fn=<ReluBackward0>)"
            ]
          },
          "metadata": {},
          "execution_count": 19
        }
      ]
    },
    {
      "cell_type": "markdown",
      "source": [
        "**The dimension result of the defined convolution layer one, conv1 = nn.Conv2d(1,6,3,1)**"
      ],
      "metadata": {
        "id": "KN4if1oBsOj2"
      }
    },
    {
      "cell_type": "code",
      "source": [
        "x.shape"
      ],
      "metadata": {
        "colab": {
          "base_uri": "https://localhost:8080/"
        },
        "id": "31VXLWlhsGAJ",
        "outputId": "4a4c0c2e-36cd-474f-e490-549e6502d428"
      },
      "execution_count": 20,
      "outputs": [
        {
          "output_type": "execute_result",
          "data": {
            "text/plain": [
              "torch.Size([1, 6, 26, 26])"
            ]
          },
          "metadata": {},
          "execution_count": 20
        }
      ]
    },
    {
      "cell_type": "markdown",
      "source": [
        "**Pooling the convolution layer one pass**"
      ],
      "metadata": {
        "id": "Yn8L1TC2tvJr"
      }
    },
    {
      "cell_type": "code",
      "source": [
        "# kernel of 2 and stride of 2\n",
        "x = F.max_pool2d(x,2,2)"
      ],
      "metadata": {
        "id": "hEQPDu4RtnFH"
      },
      "execution_count": 21,
      "outputs": []
    },
    {
      "cell_type": "markdown",
      "source": [
        "**Creating the fully convolutional model**"
      ],
      "metadata": {
        "id": "FepXLqGFwVsm"
      }
    },
    {
      "cell_type": "code",
      "source": [
        "class ConvolutionalNetwork(nn.Module):\n",
        "  def __init__(self):\n",
        "    super().__init__()\n",
        "    # Convolutional layers\n",
        "    self.conv1 = nn.Conv2d(1,6,3,1)\n",
        "    self.conv2 = nn.Conv2d(6,16,3,1)\n",
        "\n",
        "    # Fully Connected Layer\n",
        "    self.fc1 = nn.Linear(5*5*16,120)\n",
        "    self.fc2 = nn.Linear(120,84)\n",
        "    self.fc3 = nn.Linear(84,10)\n",
        "\n",
        "  def forward(self, x):\n",
        "    #Convolutional layer 1\n",
        "    x=F.relu(self.conv1(x))\n",
        "    x=F.max_pool2d(x,2,2)  #2*2 kernel and stride 2\n",
        "\n",
        "    #Convolutional layer 2\n",
        "    x=F.relu(self.conv2(x))\n",
        "    x=F.max_pool2d(x,2,2)\n",
        "\n",
        "    #Re-View to flatten it out\n",
        "    x=x.view(-1,16*5*5)\n",
        "\n",
        "    #Fully Connected Layers\n",
        "    x =F.relu(self.fc1(x))\n",
        "    x =F.relu(self.fc2(x))\n",
        "    x =self.fc3(x)\n",
        "\n",
        "    return F.log_softmax(x,dim=1)\n",
        "\n"
      ],
      "metadata": {
        "id": "hWV8YlbtwOQJ"
      },
      "execution_count": 22,
      "outputs": []
    },
    {
      "cell_type": "markdown",
      "source": [
        "**Create an Instance of our Model**"
      ],
      "metadata": {
        "id": "b7UqqSRwzw6x"
      }
    },
    {
      "cell_type": "code",
      "source": [
        "torch.manual_seed(41)\n",
        "model = ConvolutionalNetwork()\n",
        "model"
      ],
      "metadata": {
        "colab": {
          "base_uri": "https://localhost:8080/"
        },
        "id": "OQmvj0z8z1tq",
        "outputId": "3032f406-ffa9-4f88-c658-964fed267b0c"
      },
      "execution_count": 23,
      "outputs": [
        {
          "output_type": "execute_result",
          "data": {
            "text/plain": [
              "ConvolutionalNetwork(\n",
              "  (conv1): Conv2d(1, 6, kernel_size=(3, 3), stride=(1, 1))\n",
              "  (conv2): Conv2d(6, 16, kernel_size=(3, 3), stride=(1, 1))\n",
              "  (fc1): Linear(in_features=400, out_features=120, bias=True)\n",
              "  (fc2): Linear(in_features=120, out_features=84, bias=True)\n",
              "  (fc3): Linear(in_features=84, out_features=10, bias=True)\n",
              ")"
            ]
          },
          "metadata": {},
          "execution_count": 23
        }
      ]
    },
    {
      "cell_type": "markdown",
      "source": [
        "**Define loss function and optimizer for the model**"
      ],
      "metadata": {
        "id": "q_mLJGYP0PHC"
      }
    },
    {
      "cell_type": "code",
      "source": [
        "criterion =nn.CrossEntropyLoss()\n",
        "optimizer =torch.optim.Adam(model.parameters(),lr=0.001)"
      ],
      "metadata": {
        "id": "pY-7jJQE0OYv"
      },
      "execution_count": 24,
      "outputs": []
    },
    {
      "cell_type": "markdown",
      "source": [
        "**Train and Test CNN Model**"
      ],
      "metadata": {
        "id": "bS18NEvEu2sA"
      }
    },
    {
      "cell_type": "code",
      "source": [
        "import time\n",
        "start_time = time.time()\n",
        "\n",
        "# Create Variables to track train/test correctnesses and losses\n",
        "epochs = 5\n",
        "train_correct = []\n",
        "train_losses = []\n",
        "test_correct = []\n",
        "test_losses = []\n",
        "\n",
        "for i in range(epochs):\n",
        "  trn_corr = 0\n",
        "  tst_corr = 0\n",
        "\n",
        "  for b,(X_train, y_train) in enumerate(train_loader):\n",
        "    # Start from batches at 1\n",
        "    b+=1\n",
        "\n",
        "    # Get predicted values from the training sets\n",
        "    y_pred = model(X_train)\n",
        "\n",
        "    # Calculate loss\n",
        "    loss = criterion(y_pred, y_train)\n",
        "\n",
        "    # Extract the predicted value from each batch and count the corrected amount in each batch\n",
        "    predicted = torch.max(y_pred.data,1)[1]\n",
        "    batch_corr = (predicted == y_train).sum()\n",
        "    trn_corr += batch_corr\n",
        "\n",
        "    # Update the parameters using backpropagation\n",
        "    optimizer.zero_grad()\n",
        "    loss.backward()\n",
        "    optimizer.step()\n",
        "\n",
        "    # Print some results after each 600 bacthes\n",
        "    if b%600 == 0:\n",
        "      print(f'Epoch: {i} Batch: {b} Loss: {loss.item()}')\n",
        "\n",
        "    train_correct.append(trn_corr)\n",
        "    train_losses.append(loss)\n",
        "\n",
        "    # Test data evaluation\n",
        "    with torch.no_grad(): # make sure not to update weights and biases in testing\n",
        "      for b,(X_test,y_test) in enumerate(test_loader):\n",
        "        y_val = model(X_test)\n",
        "        predicted = torch.max(y_val.data,1)[1]\n",
        "        tst_corr += (predicted == y_test).sum()\n",
        "\n",
        "    loss = criterion(y_val,y_test)\n",
        "    test_losses.append(loss)\n",
        "    test_correct.append(tst_corr)\n",
        "\n",
        "current_time = time.time()\n",
        "total = current_time - start_time\n",
        "print(f'Total amount of the training time: {total/60} minutes!')"
      ],
      "metadata": {
        "id": "x44HJKj7uyzh",
        "outputId": "1443f7da-a46a-4f69-a0fd-dfde368c2c5c",
        "colab": {
          "base_uri": "https://localhost:8080/"
        }
      },
      "execution_count": null,
      "outputs": [
        {
          "output_type": "stream",
          "name": "stdout",
          "text": [
            "Epoch: 0 Batch: 600 Loss: 0.1623610556125641\n",
            "Epoch: 0 Batch: 1200 Loss: 0.1502392590045929\n"
          ]
        }
      ]
    }
  ]
}